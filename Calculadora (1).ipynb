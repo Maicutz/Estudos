{
  "nbformat": 4,
  "nbformat_minor": 0,
  "metadata": {
    "colab": {
      "provenance": []
    },
    "kernelspec": {
      "name": "python3",
      "display_name": "Python 3"
    },
    "language_info": {
      "name": "python"
    }
  },
  "cells": [
    {
      "cell_type": "code",
      "source": [
        "operation = input('''\n",
        "Escolha o tipo de opreação desejada\n",
        "+ para adição\n",
        "- para subtração\n",
        "* para multiplicação\n",
        "/ para divisão\n",
        "''')\n",
        "\n",
        "numero_1 = input('Digite o primeiro número: ')\n",
        "numero_2 = input('Digite o segundo número: ')\n",
        "\n",
        "\n",
        "if operation == \"+\":\n",
        "  resultado = int(numero_1) + int(numero_2)\n",
        "\n",
        "elif operation == \"-\":\n",
        "  resultado = int(numero_1) - int(numero_2)\n",
        "\n",
        "elif operation == \"*\":\n",
        "  resultado = int(numero_1) * int(numero_2)\n",
        "\n",
        "elif operation == \"/\":\n",
        "  resultado = int(numero_1) / int(numero_2)\n",
        "\n",
        "else:\n",
        "  resultado = ('Operação não suportada')\n",
        "\n",
        "\n",
        "\n",
        "print('O resultado da operação é: ' + str(resultado))"
      ],
      "metadata": {
        "colab": {
          "base_uri": "https://localhost:8080/"
        },
        "id": "4ndumZA0Pj3F",
        "outputId": "66eb028a-f21e-4d32-e134-74f7f175f3e3"
      },
      "execution_count": 3,
      "outputs": [
        {
          "output_type": "stream",
          "name": "stdout",
          "text": [
            "\n",
            "Escolha o tipo de opreação desejada\n",
            "+ para adição\n",
            "- para subtração\n",
            "* para multiplicação \n",
            "/ para divisão\n",
            "-\n",
            "Digite o primeiro número: 6\n",
            "Digite o segundo número: 3\n",
            "O resultado da operação é: 3\n"
          ]
        }
      ]
    },
    {
      "cell_type": "code",
      "source": [],
      "metadata": {
        "id": "qiOwLRkt_t6R"
      },
      "execution_count": null,
      "outputs": []
    }
  ]
}